{
 "cells": [
  {
   "cell_type": "code",
   "execution_count": 1,
   "id": "5f3b667b",
   "metadata": {},
   "outputs": [],
   "source": [
    "import matplotlib.pyplot as plt\n",
    "import numpy as np"
   ]
  },
  {
   "cell_type": "markdown",
   "id": "c915e89b",
   "metadata": {},
   "source": [
    "Linear Function"
   ]
  },
  {
   "cell_type": "code",
   "execution_count": 2,
   "id": "e04e5952",
   "metadata": {},
   "outputs": [],
   "source": [
    "y = lambda x: -10 * x + 20"
   ]
  },
  {
   "cell_type": "code",
   "execution_count": 5,
   "id": "7ed114ab",
   "metadata": {},
   "outputs": [
    {
     "name": "stdout",
     "output_type": "stream",
     "text": [
      "-5.0\n"
     ]
    },
    {
     "data": {
      "image/png": "[encoded data removed]",
      "text/plain": [
       "<Figure size 432x288 with 1 Axes>"
      ]
     },
     "metadata": {
      "needs_background": "light"
     },
     "output_type": "display_data"
    }
   ],
   "source": [
    "print(y(2.5))\n",
    "\n",
    "x = np.linspace(-5,5,100)\n",
    "plt.plot(x, y(x), '-r', label='y=2x+1')\n",
    "plt.title('Graph of y=2x+1')\n",
    "plt.xlabel('x', color='#1C2833')\n",
    "plt.ylabel('y', color='#1C2833')\n",
    "plt.legend(loc='upper left')\n",
    "plt.grid()\n",
    "plt.show()"
   ]
  },
  {
   "cell_type": "markdown",
   "id": "4536e13c",
   "metadata": {},
   "source": [
    "# Differentiation Rules\n",
    "\n",
    "## Derivatives of Polynomials and Exponential Functions\n",
    "\n",
    "##### The Power Rule \n",
    "If n is a positive integer, then\n",
    "$$\n",
    "\\frac{d}{dx}(x^n) = nx^{n-1}\n",
    "$$\n",
    "\n",
    "\n",
    "$$\n",
    "\\frac{d}{dx}(x^4) = 4x^3\n",
    "$$\n",
    "\n",
    "##### The Constant Multiple Rule\n",
    "If c is a constant and f is a differentiable function,\n",
    "then\n",
    "\n",
    "$$\n",
    "\\frac{d}{dx}[cf(x)] = c\\frac{d}{dx}f(x)\n",
    "$$\n",
    "\n",
    "$$\n",
    "\\frac{d}{dx}(3x^4) = 3\\frac{d}{dx}(x^4) = 3(4x^3) = 12x^3\n",
    "$$\n",
    "\n",
    "##### The Sum Rule\n",
    "If f and t are both differentiable, then\n",
    "\n",
    "$$\n",
    "\\frac{d}{dx}[f(x) + g(x)] = \\frac{d}{dx}f(x) + \\frac{d}{dx}g(x)\n",
    "$$\n",
    "\n",
    "EXAMPLE 6 Find the points on the curve $ y = x^4 - 6x^2 + 4$ where the tangent line is\n",
    "horizontal.\n",
    "\n",
    "$$\n",
    "\\frac{d}{dx} = \\frac{d}{dx}(x4) - 6\\frac{d}{dx}(x^2) = 4x^3 - 6(2x) = 4x^3 - 12x = 4x(x^2 - 3)\n",
    "$$"
   ]
  },
  {
   "cell_type": "markdown",
   "id": "7d739b25",
   "metadata": {},
   "source": [
    "$$\n",
    "  \\frac{dP}{dt} = kP\n",
    "$$\n",
    "\n",
    "it is a differential equation because it contains an unknown function P and its\n",
    "derivative dPydt."
   ]
  },
  {
   "cell_type": "code",
   "execution_count": null,
   "id": "06c23036",
   "metadata": {},
   "outputs": [],
   "source": []
  }
 ],
 "metadata": {
  "kernelspec": {
   "display_name": "math_stuff",
   "language": "python",
   "name": "math_stuff"
  },
  "language_info": {
   "codemirror_mode": {
    "name": "ipython",
    "version": 3
   },
   "file_extension": ".py",
   "mimetype": "text/x-python",
   "name": "python",
   "nbconvert_exporter": "python",
   "pygments_lexer": "ipython3",
   "version": "3.9.6"
  }
 },
 "nbformat": 4,
 "nbformat_minor": 5
}
